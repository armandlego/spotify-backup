{
 "cells": [
  {
   "cell_type": "code",
   "execution_count": null,
   "metadata": {},
   "outputs": [],
   "source": [
    "import csv\n",
    "import base64\n",
    "\n",
    "import requests\n",
    "import urllib.request"
   ]
  },
  {
   "cell_type": "markdown",
   "metadata": {},
   "source": [
    "# 1. Authentification"
   ]
  },
  {
   "cell_type": "markdown",
   "metadata": {},
   "source": [
    "Setup API entry point at https://developer.spotify.com/dashboard/.\n",
    "\n",
    "Get *CLIENT_ID* and *CLIENT_SECRET* (enter below) and add `https://127.0.0.1/` as callbacks URI."
   ]
  },
  {
   "cell_type": "code",
   "execution_count": null,
   "metadata": {},
   "outputs": [],
   "source": [
    "CLIENT_ID = \"\"\n",
    "CLIENT_SECRET = \"\""
   ]
  },
  {
   "cell_type": "code",
   "execution_count": null,
   "metadata": {},
   "outputs": [],
   "source": [
    "URL = \"https://api.spotify.com/v1/\"\n",
    "AUTH_URL = 'https://accounts.spotify.com/authorize'\n",
    "TOKEN_URL = 'https://accounts.spotify.com/api/token'"
   ]
  },
  {
   "cell_type": "code",
   "execution_count": null,
   "metadata": {},
   "outputs": [],
   "source": [
    "auth_code = requests.get(AUTH_URL, {\n",
    "    'client_id': CLIENT_ID,\n",
    "    'response_type': 'code',\n",
    "    'redirect_uri': 'https://127.0.0.1/',\n",
    "    'scope': 'user-library-read user-follow-read playlist-read-collaborative playlist-read-private'\n",
    "})\n",
    "\n",
    "print(auth_code.url)"
   ]
  },
  {
   "cell_type": "markdown",
   "metadata": {},
   "source": [
    "Approve the application with the link above and get the auth code in the callback URL :\n",
    "> https://127.0.0.1/?code=XXXX\n",
    "\n",
    "Paste the code in the cell below."
   ]
  },
  {
   "cell_type": "code",
   "execution_count": null,
   "metadata": {},
   "outputs": [],
   "source": [
    "CODE = \"\""
   ]
  },
  {
   "cell_type": "code",
   "execution_count": null,
   "metadata": {},
   "outputs": [],
   "source": [
    "auth_header = base64.urlsafe_b64encode((CLIENT_ID + ':' + CLIENT_SECRET).encode())\n",
    "\n",
    "headers = {\n",
    "    'Content-Type': 'application/x-www-form-urlencoded',\n",
    "    'Authorization': 'Basic %s' % auth_header.decode('ascii')\n",
    "}\n",
    "\n",
    "payload = {\n",
    "    'grant_type': 'authorization_code',\n",
    "    'code': CODE, \n",
    "    'redirect_uri': 'https://127.0.0.1/',\n",
    "    'client_id': CLIENT_ID,\n",
    "    'client_secret': CLIENT_SECRET,\n",
    "}\n",
    "\n",
    "# Make a request to the /token endpoint to get an access token\n",
    "access_token_request = requests.post(url=TOKEN_URL, data=payload, headers=headers)\n",
    "\n",
    "# convert the response to JSON\n",
    "access_token = access_token_request.json()['access_token']\n",
    "\n",
    "\n",
    "headers = {\n",
    "    'Authorization': 'Bearer {token}'.format(token=access_token)\n",
    "}\n"
   ]
  },
  {
   "cell_type": "markdown",
   "metadata": {},
   "source": [
    "# 2. Fetch library data"
   ]
  },
  {
   "cell_type": "code",
   "execution_count": null,
   "metadata": {},
   "outputs": [],
   "source": [
    "def fetch_all(endpoint, headers):\n",
    "    items = []\n",
    "    r = requests.get(endpoint, headers=headers).json()\n",
    "    items += (r[\"items\"])\n",
    "    while r[\"next\"]:\n",
    "        r = requests.get(r[\"next\"], headers=headers).json()\n",
    "        items += (r[\"items\"])\n",
    "    return items\n",
    "\n",
    "def fetch_all_artists(endpoint, headers):\n",
    "    items = []\n",
    "    r = requests.get(endpoint, headers=headers).json()[\"artists\"]\n",
    "    items += (r[\"items\"])\n",
    "    while r[\"next\"]:\n",
    "        r = requests.get(r[\"next\"], headers=headers).json()[\"artists\"]\n",
    "        items += (r[\"items\"])\n",
    "    return items"
   ]
  },
  {
   "cell_type": "code",
   "execution_count": null,
   "metadata": {},
   "outputs": [],
   "source": [
    "playlists = fetch_all(URL + \"me/playlists\", headers)\n",
    "tracks = fetch_all(URL + \"me/tracks\", headers)\n",
    "shows = fetch_all(URL + \"me/shows\", headers)\n",
    "albums = fetch_all(URL + \"me/albums\", headers)\n",
    "artists = fetch_all_artists(URL + \"me/following?type=artist\", headers)"
   ]
  },
  {
   "cell_type": "markdown",
   "metadata": {},
   "source": [
    "# 3. Export to CSV"
   ]
  },
  {
   "cell_type": "code",
   "execution_count": null,
   "metadata": {},
   "outputs": [],
   "source": [
    "PATH = \"./SAVE/\""
   ]
  },
  {
   "cell_type": "code",
   "execution_count": null,
   "metadata": {},
   "outputs": [],
   "source": [
    "with open(PATH + \"artists.csv\", 'w') as f:\n",
    "    c = csv.writer(f)\n",
    "    c.writerow([\"uri\", \"name\"])\n",
    "    for i in artists:\n",
    "        c.writerow([i[\"uri\"], i[\"name\"]])"
   ]
  },
  {
   "cell_type": "code",
   "execution_count": null,
   "metadata": {},
   "outputs": [],
   "source": [
    "with open(PATH + \"albums.csv\", 'w') as f:\n",
    "    c = csv.writer(f)\n",
    "    c.writerow([\"uri\", \"name\", \"artists\", \"added_at\", \"total_tracks\", \"release_date\"])\n",
    "    for i in albums:\n",
    "        artist = \"\"\n",
    "        for j in i[\"album\"][\"artists\"]:\n",
    "            artist += \";\" if len(artist) else \"\"\n",
    "            artist += j[\"name\"]\n",
    "\n",
    "        c.writerow([i[\"album\"][\"uri\"], i[\"album\"][\"name\"], artist, i[\"added_at\"], i[\"album\"][\"total_tracks\"], i[\"album\"][\"release_date\"]])\n",
    "        "
   ]
  },
  {
   "cell_type": "code",
   "execution_count": null,
   "metadata": {},
   "outputs": [],
   "source": [
    "with open(PATH + \"shows.csv\", 'w') as f:\n",
    "    c = csv.writer(f)\n",
    "    c.writerow([\"uri\", \"name\", \"publisher\", \"added_at\", \"total_episodes\"])\n",
    "    for i in shows:\n",
    "        c.writerow([i[\"show\"][\"uri\"], i[\"show\"][\"name\"], i[\"show\"][\"publisher\"], i[\"added_at\"], i[\"show\"][\"total_episodes\"]])"
   ]
  },
  {
   "cell_type": "code",
   "execution_count": null,
   "metadata": {},
   "outputs": [],
   "source": [
    "with open(PATH + \"playlists.csv\", 'w') as f:\n",
    "    c = csv.writer(f)\n",
    "    c.writerow([\"uri\", \"name\", \"owner_uri\", \"owner_name\", \"total_tracks\", \"public\", \"description\"])\n",
    "    for i in playlists:\n",
    "        c.writerow([i[\"uri\"], i[\"name\"], i[\"owner\"][\"uri\"], i[\"owner\"][\"display_name\"], i[\"tracks\"][\"total\"], i[\"public\"], i[\"description\"]])\n",
    "        urllib.request.urlretrieve(i[\"images\"][0][\"url\"], PATH + \"IMG/\" + i[\"uri\"] + \".jpg\")"
   ]
  },
  {
   "cell_type": "code",
   "execution_count": null,
   "metadata": {},
   "outputs": [],
   "source": [
    "cache_user_id = {}\n",
    "\n",
    "for p in playlists:\n",
    "    with open(PATH + \"PLAYLISTS/\" + p[\"id\"] + \".csv\", 'w') as f:\n",
    "        c = csv.writer(f)\n",
    "        tracklist = fetch_all(URL + \"playlists/\" + p[\"id\"] + \"/tracks\", headers)\n",
    "        for t in tracklist:\n",
    "            artist = \"\"\n",
    "            for j in t[\"track\"][\"artists\"]:\n",
    "                artist += \";\" if len(artist) else \"\"\n",
    "                artist += j[\"name\"]\n",
    "            if t[\"added_by\"][\"id\"] not in cache_user_id:\n",
    "                r = requests.get(URL + \"users/\" + t[\"added_by\"][\"id\"], headers=headers)\n",
    "                cache_user_id[t[\"added_by\"][\"id\"]] = \"Undefined\" if r.status_code > 400 else r.json()[\"display_name\"] \n",
    "                \n",
    "            c.writerow([t[\"track\"][\"uri\"], t[\"track\"][\"name\"], artist, t[\"added_at\"], t[\"added_by\"][\"uri\"], cache_user_id[t[\"added_by\"][\"id\"]]])"
   ]
  }
 ],
 "metadata": {
  "kernelspec": {
   "display_name": "Python 3.10.4 64-bit",
   "language": "python",
   "name": "python3"
  },
  "language_info": {
   "codemirror_mode": {
    "name": "ipython",
    "version": 3
   },
   "file_extension": ".py",
   "mimetype": "text/x-python",
   "name": "python",
   "nbconvert_exporter": "python",
   "pygments_lexer": "ipython3",
   "version": "3.10.4"
  },
  "orig_nbformat": 4,
  "vscode": {
   "interpreter": {
    "hash": "e7370f93d1d0cde622a1f8e1c04877d8463912d04d973331ad4851f04de6915a"
   }
  }
 },
 "nbformat": 4,
 "nbformat_minor": 2
}
